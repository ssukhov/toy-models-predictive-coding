{
 "cells": [
  {
   "cell_type": "markdown",
   "metadata": {},
   "source": [
    "# Learning in predictive coding network implemented in Nengo"
   ]
  },
  {
   "cell_type": "markdown",
   "metadata": {},
   "source": [
    "Supplementary code for the paper\n",
    "<br>\n",
    "Sergey Sukhov and Bulat Batuev \"Toy models of predictive coding for dynamic spiking neural networks\"."
   ]
  },
  {
   "cell_type": "markdown",
   "metadata": {},
   "source": [
    "Synchronization of two oscillators implemented in neuronal ensembles through learning. In line with Predictive coding concept, two oscillators are connected through auxiliary 'error' neuronal population. Feedforward and feedback connections ensure forward error propagation and back propagation of the prediction."
   ]
  },
  {
   "cell_type": "code",
   "execution_count": 1,
   "metadata": {},
   "outputs": [],
   "source": [
    "%matplotlib inline\n",
    "import matplotlib.pyplot as plt\n",
    "\n",
    "import nengo"
   ]
  },
  {
   "cell_type": "markdown",
   "metadata": {},
   "source": [
    "## Construct network"
   ]
  },
  {
   "cell_type": "code",
   "execution_count": 2,
   "metadata": {},
   "outputs": [],
   "source": [
    "model = nengo.Network()\n",
    "\n",
    "tau_synapse = 0.1\n",
    "omega = 8\n",
    "tau_synapse2 = 0.1\n",
    "omega2 = 14\n",
    "\n",
    "with model:\n",
    "    # auxiliary control of the frequency of master oscillator\n",
    "    freq = nengo.Ensemble(n_neurons=50, dimensions=1)\n",
    "    stim_freq = nengo.Node(1)\n",
    "    nengo.Connection(stim_freq, freq)\n",
    "\n",
    "    osc = nengo.Ensemble(n_neurons=500, dimensions=3, radius=1.5) # master oscillator\n",
    "    osc2 = nengo.Ensemble(n_neurons=500, dimensions=3, radius=1.5) # receiver oscillator\n",
    "    err = nengo.Ensemble(n_neurons=500, dimensions=3, radius=1.5) # error unit\n",
    "\n",
    "    def recurrent(x): # recurrent connections in the first layer\n",
    "        return [-tau_synapse*x[2]*omega*x[1]+x[0], tau_synapse*x[2]*omega*x[0]+x[1]]\n",
    "    \n",
    "    def recurrent2(x): # recurrent connections in the second layer\n",
    "        return [-tau_synapse*x[2]*omega2*x[1]+x[0], tau_synapse*x[2]*omega2*x[0]+x[1]]\n",
    "    \n",
    "    nengo.Connection(osc, osc[:2], function=recurrent, synapse=tau_synapse) \n",
    "    \n",
    "    def stim_func(t): # auxiliary function to kick-start oscillations\n",
    "        if t < 0.1:\n",
    "            return 1, 0\n",
    "        else:\n",
    "            return 0, 0\n",
    "        \n",
    "    stim = nengo.Node(stim_func)\n",
    "    nengo.Connection(stim, osc[:2])\n",
    "    nengo.Connection(freq, osc[2]) \n",
    "    \n",
    "    nengo.Connection(osc2, osc2[:2], function=recurrent2, synapse=tau_synapse)\n",
    "    nengo.Connection(osc, err, transform=-1) # feedback connection\n",
    "    nengo.Connection(osc2, err)\n",
    "    a = nengo.Connection(err, osc2, learning_rule_type=nengo.PES()) # trainable feedforward connection carrying error signal\n",
    "    nengo.Connection(err, a.learning_rule)"
   ]
  },
  {
   "cell_type": "markdown",
   "metadata": {},
   "source": [
    "## Add probes"
   ]
  },
  {
   "cell_type": "code",
   "execution_count": 3,
   "metadata": {},
   "outputs": [],
   "source": [
    "with model:\n",
    "    osc_probe = nengo.Probe(osc, synapse=0.01)\n",
    "    error_probe = nengo.Probe(err, synapse=0.01)\n",
    "    osc2_probe = nengo.Probe(osc2, synapse=0.01)"
   ]
  },
  {
   "cell_type": "markdown",
   "metadata": {},
   "source": [
    "## Run the model"
   ]
  },
  {
   "cell_type": "code",
   "execution_count": 4,
   "metadata": {},
   "outputs": [
    {
     "data": {
      "text/html": [
       "\n",
       "                <div id=\"b0ac4057-6906-459c-9757-0d37c6424ac7\" style=\"\n",
       "                    width: 100%;\n",
       "                    border: 1px solid #cfcfcf;\n",
       "                    border-radius: 4px;\n",
       "                    text-align: center;\n",
       "                    position: relative;\">\n",
       "                  <div class=\"pb-text\" style=\"\n",
       "                      position: absolute;\n",
       "                      width: 100%;\">\n",
       "                    0%\n",
       "                  </div>\n",
       "                  <div class=\"pb-fill\" style=\"\n",
       "                      background-color: #bdd2e6;\n",
       "                      width: 0%;\">\n",
       "                    <style type=\"text/css\" scoped=\"scoped\">\n",
       "                        @keyframes pb-fill-anim {\n",
       "                            0% { background-position: 0 0; }\n",
       "                            100% { background-position: 100px 0; }\n",
       "                        }\n",
       "                    </style>\n",
       "                    &nbsp;\n",
       "                  </div>\n",
       "                </div>"
      ],
      "text/plain": [
       "HtmlProgressBar cannot be displayed. Please use the TerminalProgressBar. It can be enabled with `nengo.rc.set('progress', 'progress_bar', 'nengo.utils.progress.TerminalProgressBar')`."
      ]
     },
     "metadata": {},
     "output_type": "display_data"
    },
    {
     "data": {
      "application/javascript": [
       "\n",
       "              (function () {\n",
       "                  var root = document.getElementById('b0ac4057-6906-459c-9757-0d37c6424ac7');\n",
       "                  var text = root.getElementsByClassName('pb-text')[0];\n",
       "                  var fill = root.getElementsByClassName('pb-fill')[0];\n",
       "\n",
       "                  text.innerHTML = 'Build finished in 0:00:01.';\n",
       "                  \n",
       "            fill.style.width = '100%';\n",
       "            fill.style.animation = 'pb-fill-anim 2s linear infinite';\n",
       "            fill.style.backgroundSize = '100px 100%';\n",
       "            fill.style.backgroundImage = 'repeating-linear-gradient(' +\n",
       "                '90deg, #bdd2e6, #edf2f8 40%, #bdd2e6 80%, #bdd2e6)';\n",
       "        \n",
       "                  \n",
       "                fill.style.animation = 'none';\n",
       "                fill.style.backgroundImage = 'none';\n",
       "            \n",
       "              })();\n",
       "        "
      ],
      "text/plain": [
       "<IPython.core.display.Javascript object>"
      ]
     },
     "metadata": {},
     "output_type": "display_data"
    },
    {
     "data": {
      "text/html": [
       "\n",
       "                <div id=\"637530cd-a83d-4fc7-8b03-3f04560ee1ca\" style=\"\n",
       "                    width: 100%;\n",
       "                    border: 1px solid #cfcfcf;\n",
       "                    border-radius: 4px;\n",
       "                    text-align: center;\n",
       "                    position: relative;\">\n",
       "                  <div class=\"pb-text\" style=\"\n",
       "                      position: absolute;\n",
       "                      width: 100%;\">\n",
       "                    0%\n",
       "                  </div>\n",
       "                  <div class=\"pb-fill\" style=\"\n",
       "                      background-color: #bdd2e6;\n",
       "                      width: 0%;\">\n",
       "                    <style type=\"text/css\" scoped=\"scoped\">\n",
       "                        @keyframes pb-fill-anim {\n",
       "                            0% { background-position: 0 0; }\n",
       "                            100% { background-position: 100px 0; }\n",
       "                        }\n",
       "                    </style>\n",
       "                    &nbsp;\n",
       "                  </div>\n",
       "                </div>"
      ],
      "text/plain": [
       "HtmlProgressBar cannot be displayed. Please use the TerminalProgressBar. It can be enabled with `nengo.rc.set('progress', 'progress_bar', 'nengo.utils.progress.TerminalProgressBar')`."
      ]
     },
     "metadata": {},
     "output_type": "display_data"
    },
    {
     "data": {
      "application/javascript": [
       "\n",
       "              (function () {\n",
       "                  var root = document.getElementById('637530cd-a83d-4fc7-8b03-3f04560ee1ca');\n",
       "                  var text = root.getElementsByClassName('pb-text')[0];\n",
       "                  var fill = root.getElementsByClassName('pb-fill')[0];\n",
       "\n",
       "                  text.innerHTML = 'Simulation finished in 0:00:10.';\n",
       "                  \n",
       "            if (100.0 > 0.) {\n",
       "                fill.style.transition = 'width 0.1s linear';\n",
       "            } else {\n",
       "                fill.style.transition = 'none';\n",
       "            }\n",
       "\n",
       "            fill.style.width = '100.0%';\n",
       "            fill.style.animation = 'none';\n",
       "            fill.style.backgroundImage = 'none'\n",
       "        \n",
       "                  \n",
       "                fill.style.animation = 'none';\n",
       "                fill.style.backgroundImage = 'none';\n",
       "            \n",
       "              })();\n",
       "        "
      ],
      "text/plain": [
       "<IPython.core.display.Javascript object>"
      ]
     },
     "metadata": {},
     "output_type": "display_data"
    }
   ],
   "source": [
    "# Create simulator\n",
    "with nengo.Simulator(model) as sim:\n",
    "    # Run it for several seconds\n",
    "    sim.run(15)"
   ]
  },
  {
   "cell_type": "markdown",
   "metadata": {},
   "source": [
    "## Plot the results"
   ]
  },
  {
   "cell_type": "code",
   "execution_count": 5,
   "metadata": {},
   "outputs": [
    {
     "data": {
      "image/png": "[encoded data removed]",
      "text/plain": [
       "<Figure size 348.7x215.513 with 1 Axes>"
      ]
     },
     "metadata": {},
     "output_type": "display_data"
    }
   ],
   "source": [
    "# Plot the decoded output of the ensemble\n",
    "n = 40 # plot every n-th point\n",
    "x = sim.trange()[::n]\n",
    "y1 = sim.data[osc_probe][:,0][::n]\n",
    "y2 = sim.data[osc2_probe][:,0][::n]\n",
    "\n",
    "width = 3.487\n",
    "height = width / 1.618\n",
    "\n",
    "fig = plt.figure(figsize=(width,height))\n",
    "plt.plot(x, y1, label=\"Master oscillator\", linewidth=1)\n",
    "plt.plot(x, y2, label=\"Receiver oscillator\", linewidth=1, linestyle='dashed')\n",
    "plt.xlabel(\"Time (s)\", fontsize=10)\n",
    "plt.ylabel(\"Output value (arb. units)\", fontsize=10)\n",
    "#plt.legend()\n",
    "\n",
    "# save the figure if necessary\n",
    "plt.savefig('Learning.svg', bbox_inches='tight')"
   ]
  },
  {
   "cell_type": "code",
   "execution_count": 8,
   "metadata": {},
   "outputs": [],
   "source": [
    "# save data for further use\n",
    "# import pickle\n",
    "\n",
    "# data = {'time': sim.trange(),\n",
    "#         'osc_output': sim.data[osc_probe].squeeze(),\n",
    "#         'err_output': sim.data[error_probe].squeeze(),\n",
    "#         'osc2_output': sim.data[osc2_probe].squeeze()}\n",
    "\n",
    "# with open('PhaseSync.data', 'wb') as f:\n",
    "#         pickle.dump(data, f)\n",
    "\n",
    "# load previously save data\n",
    "# with open('PhaseSync.data', 'rb') as f:\n",
    "#         data = pickle.load(f)"
   ]
  },
  {
   "cell_type": "code",
   "execution_count": null,
   "metadata": {},
   "outputs": [],
   "source": []
  }
 ],
 "metadata": {
  "kernelspec": {
   "display_name": "Python 3",
   "language": "python",
   "name": "python3"
  },
  "language_info": {
   "codemirror_mode": {
    "name": "ipython",
    "version": 3
   },
   "file_extension": ".py",
   "mimetype": "text/x-python",
   "name": "python",
   "nbconvert_exporter": "python",
   "pygments_lexer": "ipython3",
   "version": "3.6.4"
  }
 },
 "nbformat": 4,
 "nbformat_minor": 5
}
