{
 "cells": [
  {
   "cell_type": "markdown",
   "metadata": {},
   "source": [
    "# Toy model of predictive coding in integrator neural network"
   ]
  },
  {
   "cell_type": "markdown",
   "metadata": {},
   "source": [
    "Supplementary code for the paper\n",
    "<br>\n",
    "Sergey Sukhov and Bulat Batuev \"Toy models of predictive coding for dynamic spiking neural networks\"."
   ]
  },
  {
   "cell_type": "markdown",
   "metadata": {},
   "source": [
    "The code contains the toy model of predictive coding using integrator network.\n",
    "The error signal teaches the integrator of upper neuronal level to reproduce the value of lower level. The error becomes zero when finished teaching. The input signal and the signal from integrator specify the current error. The neural networks are implemented in Nengo."
   ]
  },
  {
   "cell_type": "markdown",
   "metadata": {},
   "source": [
    "integrator part is taken from Nengo examples\n",
    "https://www.nengo.ai/nengo/examples/dynamics/integrator.html\n",
    "<br>\n",
    "Integrator equation\n",
    "dx/dt = u(t)/$\\tau_p$\n",
    "where u(t) is the input stimulus, $\\tau_p$ is the characteristic time of perception of the network"
   ]
  },
  {
   "cell_type": "code",
   "execution_count": 1,
   "metadata": {},
   "outputs": [],
   "source": [
    "%matplotlib inline\n",
    "import matplotlib.pyplot as plt\n",
    "\n",
    "import nengo\n",
    "from nengo.processes import Piecewise"
   ]
  },
  {
   "cell_type": "markdown",
   "metadata": {},
   "source": [
    "## Construct network"
   ]
  },
  {
   "cell_type": "code",
   "execution_count": 2,
   "metadata": {},
   "outputs": [],
   "source": [
    "model = nengo.Network()\n",
    "\n",
    "# Parameters\n",
    "tau_synapse = 0.2 # should be reasonably large\n",
    "tau_p = 0.1 # characteristic time of perception\n",
    "\n",
    "with model:\n",
    "    err = nengo.Ensemble(n_neurons=100, dimensions=1)\n",
    "    layer1 = nengo.Ensemble(n_neurons=100, dimensions=1)\n",
    "    stim = nengo.Node(Piecewise({0: 0, 0.05: 1, 0.5: -2}))\n",
    "    layer2 = nengo.Ensemble(n_neurons=100, dimensions=1)\n",
    "    nengo.Connection(stim,layer1)\n",
    "    nengo.Connection(layer1, err)\n",
    "    \n",
    "    def forward(u):\n",
    "        return tau_synapse*u/tau_p\n",
    "    # feedforward error\n",
    "    nengo.Connection(err, layer2, function=forward, synapse=tau_synapse)\n",
    "    \n",
    "    def recurrent(x):\n",
    "        return x\n",
    "    nengo.Connection(layer2, layer2, function=recurrent, synapse=tau_synapse)\n",
    "    \n",
    "    nengo.Connection(layer2, err, transform=-1) # feedback to the error population"
   ]
  },
  {
   "cell_type": "markdown",
   "metadata": {},
   "source": [
    "## Add probes"
   ]
  },
  {
   "cell_type": "code",
   "execution_count": 3,
   "metadata": {},
   "outputs": [],
   "source": [
    "with model:\n",
    "    layer1_probe = nengo.Probe(layer1, synapse=0.01)\n",
    "    error_probe = nengo.Probe(err, synapse=0.01)\n",
    "    layer2_probe = nengo.Probe(layer2, synapse=0.01)"
   ]
  },
  {
   "cell_type": "markdown",
   "metadata": {},
   "source": [
    "## Run the model"
   ]
  },
  {
   "cell_type": "code",
   "execution_count": 4,
   "metadata": {},
   "outputs": [
    {
     "data": {
      "text/html": [
       "\n",
       "                <div id=\"32a59510-602a-4561-9e6c-b10b946a6601\" style=\"\n",
       "                    width: 100%;\n",
       "                    border: 1px solid #cfcfcf;\n",
       "                    border-radius: 4px;\n",
       "                    text-align: center;\n",
       "                    position: relative;\">\n",
       "                  <div class=\"pb-text\" style=\"\n",
       "                      position: absolute;\n",
       "                      width: 100%;\">\n",
       "                    0%\n",
       "                  </div>\n",
       "                  <div class=\"pb-fill\" style=\"\n",
       "                      background-color: #bdd2e6;\n",
       "                      width: 0%;\">\n",
       "                    <style type=\"text/css\" scoped=\"scoped\">\n",
       "                        @keyframes pb-fill-anim {\n",
       "                            0% { background-position: 0 0; }\n",
       "                            100% { background-position: 100px 0; }\n",
       "                        }\n",
       "                    </style>\n",
       "                    &nbsp;\n",
       "                  </div>\n",
       "                </div>"
      ],
      "text/plain": [
       "HtmlProgressBar cannot be displayed. Please use the TerminalProgressBar. It can be enabled with `nengo.rc.set('progress', 'progress_bar', 'nengo.utils.progress.TerminalProgressBar')`."
      ]
     },
     "metadata": {},
     "output_type": "display_data"
    },
    {
     "data": {
      "application/javascript": [
       "\n",
       "              (function () {\n",
       "                  var root = document.getElementById('32a59510-602a-4561-9e6c-b10b946a6601');\n",
       "                  var text = root.getElementsByClassName('pb-text')[0];\n",
       "                  var fill = root.getElementsByClassName('pb-fill')[0];\n",
       "\n",
       "                  text.innerHTML = 'Build finished in 0:00:01.';\n",
       "                  \n",
       "            fill.style.width = '100%';\n",
       "            fill.style.animation = 'pb-fill-anim 2s linear infinite';\n",
       "            fill.style.backgroundSize = '100px 100%';\n",
       "            fill.style.backgroundImage = 'repeating-linear-gradient(' +\n",
       "                '90deg, #bdd2e6, #edf2f8 40%, #bdd2e6 80%, #bdd2e6)';\n",
       "        \n",
       "                  \n",
       "                fill.style.animation = 'none';\n",
       "                fill.style.backgroundImage = 'none';\n",
       "            \n",
       "              })();\n",
       "        "
      ],
      "text/plain": [
       "<IPython.core.display.Javascript object>"
      ]
     },
     "metadata": {},
     "output_type": "display_data"
    },
    {
     "data": {
      "text/html": [
       "\n",
       "                <div id=\"52e6af7e-dc1c-4d00-b225-a90e4cc81845\" style=\"\n",
       "                    width: 100%;\n",
       "                    border: 1px solid #cfcfcf;\n",
       "                    border-radius: 4px;\n",
       "                    text-align: center;\n",
       "                    position: relative;\">\n",
       "                  <div class=\"pb-text\" style=\"\n",
       "                      position: absolute;\n",
       "                      width: 100%;\">\n",
       "                    0%\n",
       "                  </div>\n",
       "                  <div class=\"pb-fill\" style=\"\n",
       "                      background-color: #bdd2e6;\n",
       "                      width: 0%;\">\n",
       "                    <style type=\"text/css\" scoped=\"scoped\">\n",
       "                        @keyframes pb-fill-anim {\n",
       "                            0% { background-position: 0 0; }\n",
       "                            100% { background-position: 100px 0; }\n",
       "                        }\n",
       "                    </style>\n",
       "                    &nbsp;\n",
       "                  </div>\n",
       "                </div>"
      ],
      "text/plain": [
       "HtmlProgressBar cannot be displayed. Please use the TerminalProgressBar. It can be enabled with `nengo.rc.set('progress', 'progress_bar', 'nengo.utils.progress.TerminalProgressBar')`."
      ]
     },
     "metadata": {},
     "output_type": "display_data"
    },
    {
     "data": {
      "application/javascript": [
       "\n",
       "              (function () {\n",
       "                  var root = document.getElementById('52e6af7e-dc1c-4d00-b225-a90e4cc81845');\n",
       "                  var text = root.getElementsByClassName('pb-text')[0];\n",
       "                  var fill = root.getElementsByClassName('pb-fill')[0];\n",
       "\n",
       "                  text.innerHTML = 'Simulation finished in 0:00:01.';\n",
       "                  \n",
       "            if (100.0 > 0.) {\n",
       "                fill.style.transition = 'width 0.1s linear';\n",
       "            } else {\n",
       "                fill.style.transition = 'none';\n",
       "            }\n",
       "\n",
       "            fill.style.width = '100.0%';\n",
       "            fill.style.animation = 'none';\n",
       "            fill.style.backgroundImage = 'none'\n",
       "        \n",
       "                  \n",
       "                fill.style.animation = 'none';\n",
       "                fill.style.backgroundImage = 'none';\n",
       "            \n",
       "              })();\n",
       "        "
      ],
      "text/plain": [
       "<IPython.core.display.Javascript object>"
      ]
     },
     "metadata": {},
     "output_type": "display_data"
    }
   ],
   "source": [
    "# Create simulator\n",
    "with nengo.Simulator(model) as sim:\n",
    "    # Run it for several seconds\n",
    "    sim.run(1)"
   ]
  },
  {
   "cell_type": "markdown",
   "metadata": {},
   "source": [
    "## Plot the results"
   ]
  },
  {
   "cell_type": "code",
   "execution_count": 6,
   "metadata": {},
   "outputs": [
    {
     "data": {
      "image/png": "[encoded data removed]",
      "text/plain": [
       "<Figure size 348.7x215.513 with 1 Axes>"
      ]
     },
     "metadata": {},
     "output_type": "display_data"
    }
   ],
   "source": [
    "# Plot the decoded output of the ensemble\n",
    "n = 3 # plot every n-th point\n",
    "x = sim.trange()[::n]\n",
    "y1 = sim.data[layer1_probe][::n]\n",
    "y2 = sim.data[error_probe][::n]\n",
    "y3 = sim.data[layer2_probe][::n]\n",
    "\n",
    "width = 3.487\n",
    "height = width / 1.618\n",
    "\n",
    "fig = plt.figure(figsize=(width,height))\n",
    "plt.plot(x, y1, label=\"Layer 1 output\", linewidth=1)\n",
    "plt.plot(x, y2, label=\"Error\", linewidth=1, linestyle='dashed')\n",
    "plt.plot(x, y3, label=\"Layer 2 output\", linewidth=1, linestyle='dotted')\n",
    "plt.xlabel(\"Time (s)\", fontsize=10)\n",
    "plt.ylabel(\"Output value (arb. units)\", fontsize=10)\n",
    "#plt.legend()\n",
    "\n",
    "# save the figure if necessary\n",
    "plt.savefig('Integrator.svg', bbox_inches='tight')"
   ]
  },
  {
   "cell_type": "code",
   "execution_count": 7,
   "metadata": {},
   "outputs": [],
   "source": [
    "# # save data for further use \n",
    "# import pandas as pd\n",
    "\n",
    "# data = {'time': sim.trange(),\n",
    "#         'layer1_output': sim.data[layer1_probe].squeeze(),\n",
    "#         'error': sim.data[error_probe].squeeze(),\n",
    "#         'layer2_output': sim.data[layer2_probe].squeeze()}\n",
    "# df = pd.DataFrame(data)\n",
    "# df.to_pickle('Integrator.pkl')\n",
    "# # df = pd.read_pickle('PCL_Nengo.pkl')"
   ]
  },
  {
   "cell_type": "code",
   "execution_count": null,
   "metadata": {},
   "outputs": [],
   "source": []
  }
 ],
 "metadata": {
  "kernelspec": {
   "display_name": "Python 3",
   "language": "python",
   "name": "python3"
  },
  "language_info": {
   "codemirror_mode": {
    "name": "ipython",
    "version": 3
   },
   "file_extension": ".py",
   "mimetype": "text/x-python",
   "name": "python",
   "nbconvert_exporter": "python",
   "pygments_lexer": "ipython3",
   "version": "3.6.4"
  }
 },
 "nbformat": 4,
 "nbformat_minor": 5
}
